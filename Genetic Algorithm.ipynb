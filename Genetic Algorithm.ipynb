{
 "cells": [
  {
   "cell_type": "code",
   "execution_count": 145,
   "id": "3fa591f4",
   "metadata": {},
   "outputs": [],
   "source": [
    "import numpy as np\n",
    "from random import choices , randint, randrange , random\n",
    "from typing import Callable \n",
    "from functools import partial"
   ]
  },
  {
   "cell_type": "markdown",
   "id": "98d30cf8",
   "metadata": {},
   "source": [
    "### initial paramenters"
   ]
  },
  {
   "cell_type": "code",
   "execution_count": 163,
   "id": "bcc7fa8d",
   "metadata": {},
   "outputs": [],
   "source": [
    "things = [{\"name\" : \"laptop\" , \"value\" : 500,\"weight\" : 2200},\n",
    "         {\"name\" : \"headphone\" , \"value\" : 150,\"weight\" : 160},\n",
    "         {\"name\" : \"coffe mug\" , \"value\" : 60,\"weight\" : 350},\n",
    "         {\"name\" : \"notepad\" , \"value\" : 40,\"weight\" : 333},\n",
    "         {\"name\" : \"water bottle\" , \"value\" : 38,\"weight\" : 192}]\n",
    "\n",
    "chrom = list[int]\n",
    "pop = list[chrom]\n",
    "\n",
    "weightLim = 3000\n",
    "nPop = 10\n",
    "cLen = len(things)\n",
    "fitLimit = 3000 # satisfied limit for us\n",
    "NGen = 100 # number of generations\n",
    "\n",
    "fitFunc = Callable[[chrom] , int]\n",
    "popFun = Callable[[] , pop]\n",
    "selFunc = Callable[[ pop , fitFunc] , tuple[chrom , chrom]]\n",
    "crossFun = Callable[[chrom , chrom] , tuple[chrom , chrom]]\n",
    "mutFunc = Callable[[chrom] , chrom]\n",
    "\n"
   ]
  },
  {
   "cell_type": "markdown",
   "id": "4afde605",
   "metadata": {},
   "source": [
    "### Generating Population"
   ]
  },
  {
   "cell_type": "code",
   "execution_count": 164,
   "id": "0ddaec52",
   "metadata": {},
   "outputs": [],
   "source": [
    "def get_chromosome(n):\n",
    "    # n --> length of chromosome\n",
    "    chromosome = choices([0,1] , k = n)\n",
    "    return chromosome\n"
   ]
  },
  {
   "cell_type": "code",
   "execution_count": 165,
   "id": "83acab40",
   "metadata": {},
   "outputs": [
    {
     "data": {
      "text/plain": [
       "[0, 0, 0, 1, 1, 0, 1, 1, 1, 0]"
      ]
     },
     "execution_count": 165,
     "metadata": {},
     "output_type": "execute_result"
    }
   ],
   "source": [
    "#test\n",
    "get_chromosome(10)"
   ]
  },
  {
   "cell_type": "code",
   "execution_count": 166,
   "id": "1d06783c",
   "metadata": {},
   "outputs": [],
   "source": [
    "def get_population(nPop , lenChrom):\n",
    "    \"\"\"\n",
    "        nPop --> size of population\n",
    "        lenChrom --> length of chromosome \n",
    "    \n",
    "    \"\"\"\n",
    "    \n",
    "    pop = [get_chromosome(lenChrom) for i in range(nPop)]\n",
    "    return pop\n",
    "    "
   ]
  },
  {
   "cell_type": "code",
   "execution_count": 167,
   "id": "919d839d",
   "metadata": {},
   "outputs": [
    {
     "data": {
      "text/plain": [
       "[[1, 0, 1, 1],\n",
       " [0, 1, 0, 0],\n",
       " [1, 0, 1, 1],\n",
       " [0, 1, 0, 1],\n",
       " [1, 0, 0, 1],\n",
       " [1, 1, 0, 0],\n",
       " [1, 1, 1, 0],\n",
       " [0, 0, 1, 0],\n",
       " [1, 1, 1, 0],\n",
       " [0, 1, 0, 0]]"
      ]
     },
     "execution_count": 167,
     "metadata": {},
     "output_type": "execute_result"
    }
   ],
   "source": [
    "population = get_population(10 , 4)\n",
    "population"
   ]
  },
  {
   "cell_type": "markdown",
   "id": "b8c326f3",
   "metadata": {},
   "source": [
    "### Generating Fitness Function"
   ]
  },
  {
   "cell_type": "code",
   "execution_count": 168,
   "id": "2dc1314a",
   "metadata": {},
   "outputs": [],
   "source": [
    "def get_fitness(chrom , things, limit):\n",
    "    \"\"\"\n",
    "        chrom --> chromosome\n",
    "        things --> thing name and thing weight\n",
    "        limit --> weight limit\n",
    "    \n",
    "    \"\"\"\n",
    "    if len(chrom) != len(things):\n",
    "        raise ValueError(\"chromosome and things must have the same size\")\n",
    "    \n",
    "    value = 0\n",
    "    weight = 0\n",
    "    \n",
    "    for i , thing in enumerate(things):\n",
    "        if chrom[i] == 1:\n",
    "            value += thing[\"value\"]\n",
    "            weight += thing[\"weight\"]\n",
    "    \n",
    "    if(weight > limit):\n",
    "        return 0\n",
    "    \n",
    "    \n",
    "    return value\n",
    "            \n",
    "    "
   ]
  },
  {
   "cell_type": "code",
   "execution_count": 169,
   "id": "2da4ba37",
   "metadata": {},
   "outputs": [
    {
     "data": {
      "text/plain": [
       "288"
      ]
     },
     "execution_count": 169,
     "metadata": {},
     "output_type": "execute_result"
    }
   ],
   "source": [
    "#test\n",
    "\n",
    "fitness = get_fitness(get_chromosome(5) , things , limit = 5000)\n",
    "fitness"
   ]
  },
  {
   "cell_type": "markdown",
   "id": "3f5b76ae",
   "metadata": {},
   "source": [
    "### Selecting parents"
   ]
  },
  {
   "cell_type": "code",
   "execution_count": 170,
   "id": "04021bef",
   "metadata": {},
   "outputs": [],
   "source": [
    "def select_two_parents(pop , fitFun):\n",
    "    \"\"\"\n",
    "        pop --> population\n",
    "        fitFun --> fitness function\n",
    "    \n",
    "    \"\"\"\n",
    "    \n",
    "    twoParents = choices(\n",
    "        population = pop,\n",
    "        weights = [fitFun(chrom) for chrom in pop],\n",
    "        k = 2\n",
    "        \n",
    "    )\n",
    "    \n",
    "    return twoParents\n",
    "    "
   ]
  },
  {
   "cell_type": "markdown",
   "id": "93d27b80",
   "metadata": {},
   "source": [
    "### Generate Crossovver"
   ]
  },
  {
   "cell_type": "code",
   "execution_count": 171,
   "id": "fb517838",
   "metadata": {},
   "outputs": [],
   "source": [
    "def get_crossover(first , second):\n",
    "    \"\"\"\n",
    "        first --> first parent\n",
    "        second --> second parent\n",
    "    \n",
    "    \"\"\"\n",
    "    \n",
    "    if len(first) != len(second):\n",
    "        raise ValueError(\"two parents must have the same size\")\n",
    "    \n",
    "    l = len(first)\n",
    "    randNum = randint(1 , l-1)\n",
    "    chrom1 = first[:randNum] + second[randNum : ]\n",
    "    chrom2 = second[:randNum] + first[randNum:]\n",
    "    return chrom1 , chrom2"
   ]
  },
  {
   "cell_type": "code",
   "execution_count": 172,
   "id": "026f9887",
   "metadata": {},
   "outputs": [
    {
     "data": {
      "text/plain": [
       "('11000', '00111')"
      ]
     },
     "execution_count": 172,
     "metadata": {},
     "output_type": "execute_result"
    }
   ],
   "source": [
    "# test\n",
    "chrom1 , chrom2 = get_crossover(\"11111\" , \"00000\")\n",
    "chrom1 , chrom2"
   ]
  },
  {
   "cell_type": "markdown",
   "id": "e4dda8b5",
   "metadata": {},
   "source": [
    "### Generate Mutation"
   ]
  },
  {
   "cell_type": "code",
   "execution_count": 173,
   "id": "d618a70d",
   "metadata": {},
   "outputs": [],
   "source": [
    "def get_mutation(chrom , n , prob):\n",
    "    \"\"\"\n",
    "        chrom --> chromosome\n",
    "        n --> number of iterations\n",
    "        prob --> probaility\n",
    "    \"\"\"\n",
    "    \n",
    "    while(n > 0):\n",
    "        n -= 1\n",
    "        idx = randrange(len(chrom))\n",
    "        chrom[idx] = chrom[idx] if random() > prob else abs(chrom[idx] - 1)\n",
    "    return chrom"
   ]
  },
  {
   "cell_type": "code",
   "execution_count": 174,
   "id": "d6abbe20",
   "metadata": {},
   "outputs": [
    {
     "data": {
      "text/plain": [
       "[0, 0, 1, 1, 1, 0]"
      ]
     },
     "execution_count": 174,
     "metadata": {},
     "output_type": "execute_result"
    }
   ],
   "source": [
    "# test\n",
    "get_mutation([1,0,1,0,1,0] , 5 , 0.5)"
   ]
  },
  {
   "cell_type": "markdown",
   "id": "b003f3f4",
   "metadata": {},
   "source": [
    "### Build Evolution Model"
   ]
  },
  {
   "cell_type": "code",
   "execution_count": 175,
   "id": "0bb3e7d1",
   "metadata": {},
   "outputs": [],
   "source": [
    "def genetic_model(popFunc , fitFunc , fitLimit , selFunc , crossFunc,\n",
    "                 mutFunc , gen):\n",
    "    \n",
    "    \"\"\"\n",
    "        popFunc : population function\n",
    "        fitFunc : fitness function\n",
    "        fitlimit : fitness limit\n",
    "        selFunc : selection function\n",
    "        crossFunc : crossover function\n",
    "        mutFunc : mutation function\n",
    "        gen : number of generations\n",
    "    \n",
    "    \"\"\"\n",
    "    \n",
    "    # generate first population population\n",
    "    pop = popFunc()\n",
    "    \n",
    "    for i in range(gen):\n",
    "        \n",
    "        # first we calcuate fitness for each chromosome\n",
    "        # get sorted population based on fitness\n",
    "        pop = sorted(\n",
    "            pop , \n",
    "            key = lambda chrom : fitFunc(chrom),\n",
    "            reverse = True\n",
    "        )\n",
    "    \n",
    "        if(fitFunc(pop[0]) > fitLimit):\n",
    "            break;\n",
    "    \n",
    "        nextPop = pop[0:2]\n",
    "        \n",
    "        for j in range((len(pop) // 2)-1):\n",
    "            chrom1 , chrom2 = selFunc(pop , fitFunc)\n",
    "            chrom1 , chrom2 = crossFunc(chrom1 , chrom2)\n",
    "            chrom1 = mutFunc(chrom1)\n",
    "            chrom2 = mutFunc(chrom2)\n",
    "            nextPop += [chrom1 , chrom2]\n",
    "        \n",
    "        pop = nextPop\n",
    "    \n",
    "    pop = sorted(\n",
    "            pop , \n",
    "            key = lambda chrom : fitFunc(chrom),\n",
    "            reverse = True\n",
    "    )\n",
    "    \n",
    "    return pop, i\n",
    "        \n",
    "    "
   ]
  },
  {
   "cell_type": "markdown",
   "id": "b555814c",
   "metadata": {},
   "source": [
    "### Run Model"
   ]
  },
  {
   "cell_type": "code",
   "execution_count": 176,
   "id": "bfb48b89",
   "metadata": {},
   "outputs": [],
   "source": [
    "pop , iters = genetic_model(\n",
    "    popFunc = partial(\n",
    "        get_population , nPop = nPop , lenChrom = cLen\n",
    "    ),\n",
    "    fitFunc = partial(\n",
    "        get_fitness , things = things, limit = weightLim \n",
    "    ),\n",
    "    fitLimit = 3000,\n",
    "    \n",
    "    selFunc = partial(\n",
    "        select_two_parents\n",
    "    ),\n",
    "    crossFunc = partial(\n",
    "        get_crossover\n",
    "        \n",
    "    ),\n",
    "    mutFunc = partial(\n",
    "        get_mutation , n = 1 , prob = 0.5\n",
    "    ),\n",
    "    gen = NGen\n",
    "    \n",
    ")"
   ]
  },
  {
   "cell_type": "markdown",
   "id": "3d1bfe86",
   "metadata": {},
   "source": [
    "### decorate result"
   ]
  },
  {
   "cell_type": "code",
   "execution_count": 177,
   "id": "bd27046c",
   "metadata": {},
   "outputs": [],
   "source": [
    "def transform_Chrom(chrom , things):\n",
    "    res = []\n",
    "    for i , thing in enumerate(things):\n",
    "        if chrom[i] == 1:\n",
    "            res += [thing[\"name\"]]\n",
    "    return res"
   ]
  },
  {
   "cell_type": "code",
   "execution_count": 179,
   "id": "7fb5d279",
   "metadata": {},
   "outputs": [
    {
     "name": "stdout",
     "output_type": "stream",
     "text": [
      "number of iterations: 99\n"
     ]
    }
   ],
   "source": [
    "print(f\"number of iterations: {iters}\")"
   ]
  },
  {
   "cell_type": "code",
   "execution_count": 180,
   "id": "1d5f54c7",
   "metadata": {},
   "outputs": [
    {
     "name": "stdout",
     "output_type": "stream",
     "text": [
      "['laptop', 'headphone', 'coffe mug', 'water bottle']\n"
     ]
    }
   ],
   "source": [
    "print(transform_Chrom(pop[0] , things))"
   ]
  },
  {
   "cell_type": "code",
   "execution_count": null,
   "id": "598acb63",
   "metadata": {},
   "outputs": [],
   "source": []
  },
  {
   "cell_type": "code",
   "execution_count": null,
   "id": "48a6c4c2",
   "metadata": {},
   "outputs": [],
   "source": []
  },
  {
   "cell_type": "code",
   "execution_count": null,
   "id": "09e87231",
   "metadata": {},
   "outputs": [],
   "source": []
  },
  {
   "cell_type": "code",
   "execution_count": null,
   "id": "46c84593",
   "metadata": {},
   "outputs": [],
   "source": []
  },
  {
   "cell_type": "code",
   "execution_count": null,
   "id": "2c287c1a",
   "metadata": {},
   "outputs": [],
   "source": []
  },
  {
   "cell_type": "code",
   "execution_count": null,
   "id": "b9bdea6d",
   "metadata": {},
   "outputs": [],
   "source": []
  },
  {
   "cell_type": "code",
   "execution_count": null,
   "id": "7b14ef79",
   "metadata": {},
   "outputs": [],
   "source": []
  },
  {
   "cell_type": "code",
   "execution_count": null,
   "id": "fc1abdf8",
   "metadata": {},
   "outputs": [],
   "source": []
  },
  {
   "cell_type": "code",
   "execution_count": null,
   "id": "46765b75",
   "metadata": {},
   "outputs": [],
   "source": []
  },
  {
   "cell_type": "code",
   "execution_count": null,
   "id": "09ecfc7a",
   "metadata": {},
   "outputs": [],
   "source": []
  },
  {
   "cell_type": "code",
   "execution_count": null,
   "id": "24546a1b",
   "metadata": {},
   "outputs": [],
   "source": []
  }
 ],
 "metadata": {
  "kernelspec": {
   "display_name": "Python 3",
   "language": "python",
   "name": "python3"
  },
  "language_info": {
   "codemirror_mode": {
    "name": "ipython",
    "version": 3
   },
   "file_extension": ".py",
   "mimetype": "text/x-python",
   "name": "python",
   "nbconvert_exporter": "python",
   "pygments_lexer": "ipython3",
   "version": "3.9.1"
  }
 },
 "nbformat": 4,
 "nbformat_minor": 5
}
